{
 "cells": [
  {
   "cell_type": "code",
   "execution_count": 1,
   "metadata": {
    "collapsed": false
   },
   "outputs": [],
   "source": [
    "from pyomo.environ import *\n",
    "import os\n",
    "model = ConcreteModel()\n",
    "solverexe = \"gurobi\"\n",
    "infinity = float('inf')\n",
    "# dirsolver = r\"C:\\Users\\ch9fod\\Documents\\GitHub\\ED\\solvers\"\n",
    "# datafile = \"data1.dat\""
   ]
  },
  {
   "cell_type": "code",
   "execution_count": 2,
   "metadata": {
    "collapsed": false
   },
   "outputs": [],
   "source": [
    "#set\n",
    "model.Bus = RangeSet(4, doc='Buses')\n",
    "model.G = RangeSet(3, doc='Generators')"
   ]
  },
  {
   "cell_type": "code",
   "execution_count": 3,
   "metadata": {
    "collapsed": false
   },
   "outputs": [],
   "source": [
    "#parameters\n",
    "model.a = Param(model.G, initialize={1:20.0 , 2:25.0 , 3:40.0}, \n",
    "                doc='Parameter a')\n",
    "model.b = Param(model.G, initialize={1:0.05 , 2:0.10 , 3:0.20}, \n",
    "                doc='Parameter b')\n",
    "model.Pmin = Param(model.G, initialize={1:20.0 , 2:20.0 , 3:30.0}, \n",
    "                   doc='Parameter Pmin')\n",
    "model.Pmax = Param(model.G, initialize={1:400.0 , 2:300.0 , 3:250.0}, \n",
    "                   doc='Parameter Pmax')\n",
    "model.Loads = Param(model.Bus, initialize={1:0.0 , 2:0.0 , 3:200.0 , 4:400.0}, \n",
    "                    doc='Loads for each Bus')\n",
    "#lone parameter, constant\n",
    "model.D = Param(initialize=600.0, doc='Load')\n",
    "model.BaseP = Param(initialize=100.0, doc='Base Power')\n",
    "model.PFmax = Param(initialize=300.0, doc='Max Power Flow')\n",
    "model.PFmin = Param(initialize=-300.0, doc='Min Power Flow')\n",
    "dtab = {\n",
    "    (1,2) : 0.007,\n",
    "    (2,3) : 0.01,\n",
    "    (3,4) : 0.006,\n",
    "    (4,1) : 0.05,    \n",
    "    (2,1) : 0.007,\n",
    "    (3,2) : 0.01,\n",
    "    (4,3) : 0.006,\n",
    "    (1,4) : 0.05,\n",
    "    }\n",
    "model.X = Param(model.Bus, model.Bus, initialize=dtab, \n",
    "                doc='Reactance between buses', default=infinity)"
   ]
  },
  {
   "cell_type": "code",
   "execution_count": 4,
   "metadata": {
    "collapsed": true
   },
   "outputs": [],
   "source": [
    "#variables\n",
    "model.P = Var(model.G, doc='Generation per Generator')\n",
    "model.Angles = Var(model.Bus, doc='Angles of Buses')"
   ]
  },
  {
   "cell_type": "code",
   "execution_count": 5,
   "metadata": {
    "collapsed": false
   },
   "outputs": [],
   "source": [
    "#constraints\n",
    "def generation_r(model,i):\n",
    "    return (model.Pmin[i] , model.P[i] , model.Pmax[i])\n",
    "model.GenCon = Constraint(model.G, rule = generation_r)\n",
    "\n",
    "def demand_r(model):\n",
    "    return model.D == sum(model.P[i] for i in model.G)\n",
    "model.DemandCon = Constraint(model.G, rule = demand_r)\n",
    "\n",
    "def slack_r(model):\n",
    "    return model.Angles[1] == 0\n",
    "model.SlackBusCon = Constraint(rule=slack_r)\n",
    "\n",
    "def bus_r(model,i):\n",
    "    if i == 4:\n",
    "        return  (-model.Loads[i] == \n",
    "                ((model.BaseP/model.X[i,i-1]) * (model.Angles[i]-model.Angles[i-1]) + \n",
    "                 (model.BaseP/model.X[i,i-3]) * (model.Angles[i]-model.Angles[i-3])))\n",
    "    elif i == 1:\n",
    "        return  ((model.P[i] - model.Loads[i]) == \n",
    "                ((model.BaseP/model.X[i,i+1]) * (model.Angles[i]-model.Angles[i+1]) + \n",
    "                 (model.BaseP/model.X[i,i+3]) * (model.Angles[i]-model.Angles[i+3])))    \n",
    "    else:\n",
    "        return  ((model.P[i] - model.Loads[i]) ==     \n",
    "                ((model.BaseP/model.X[i,i+1]) * (model.Angles[i]-model.Angles[i+1]) +\n",
    "                 (model.BaseP/model.X[i,i-1]) * (model.Angles[i]-model.Angles[i-1])))\n",
    "model.BusCon = Constraint(model.Bus, rule=bus_r)\n",
    "\n",
    "def flow_r(model,i,j):\n",
    "    if i == j:\n",
    "        return Constraint.Skip\n",
    "    return (model.PFmin , \n",
    "            (model.BaseP/model.X[i,j])*(model.Angles[i]-model.Angles[j]) , \n",
    "            model.PFmax)\n",
    "model.FlowCon = Constraint(model.Bus, model.Bus, rule=flow_r)"
   ]
  },
  {
   "cell_type": "code",
   "execution_count": 6,
   "metadata": {
    "collapsed": false
   },
   "outputs": [],
   "source": [
    "#objective\n",
    "def cost_rule(model):\n",
    "    return sum(model.a[i]*model.P[i] + \n",
    "               0.5*model.b[i]*model.P[i]**2\n",
    "              for i in model.G)\n",
    "#default is to minimize        \n",
    "model.OBJ = Objective(rule=cost_rule) "
   ]
  },
  {
   "cell_type": "code",
   "execution_count": 7,
   "metadata": {
    "collapsed": false
   },
   "outputs": [
    {
     "name": "stdout",
     "output_type": "stream",
     "text": [
      "WARNING: DEPRECATION WARNING: Cannot call Model.create_instance() on a\n",
      "\tconstructed model; returning a clone of the current model instance.\n"
     ]
    }
   ],
   "source": [
    "if solverexe == \"gurobi\":\n",
    "    solver = SolverFactory(solverexe)   \n",
    "else:\n",
    "    solver = SolverFactory(solverexe, \n",
    "                           executable=os.path.join(dirsolver, solverexe))\n",
    "instance = model.create_instance()\n",
    "instance.dual = Suffix(direction=Suffix.IMPORT)\n",
    "results = solver.solve(instance)"
   ]
  },
  {
   "cell_type": "code",
   "execution_count": 8,
   "metadata": {
    "collapsed": false
   },
   "outputs": [
    {
     "name": "stdout",
     "output_type": "stream",
     "text": [
      "Model unknown\n",
      "\n",
      "  Variables:\n",
      "    P : Generation per Generator\n",
      "        Size=3, Index=G\n",
      "        Key : Lower : Value         : Upper : Fixed : Stale : Domain\n",
      "          1 :  None :   347.6861167 :  None : False : False :  Reals\n",
      "          2 :  None : 76.6599597586 :  None : False : False :  Reals\n",
      "          3 :  None : 175.653923541 :  None : False : False :  Reals\n",
      "    Angles : Angles of Buses\n",
      "        Size=4, Index=Bus\n",
      "        Key : Lower : Value            : Upper : Fixed : Stale : Domain\n",
      "          1 :  None :              0.0 :  None : False : False :  Reals\n",
      "          2 :  None : -0.0156338028169 :  None : False : False :  Reals\n",
      "          3 :  None : -0.0456338028169 :  None : False : False :  Reals\n",
      "          4 :  None : -0.0621730382294 :  None : False : False :  Reals\n",
      "\n",
      "  Objectives:\n",
      "    OBJ : Size=1, Index=None, Active=True\n",
      "        Key  : Active : Value\n",
      "        None :   True : 22297.78672029741\n",
      "\n",
      "  Constraints:\n",
      "    GenCon : Size=3\n",
      "        Key : Lower : Body          : Upper\n",
      "          1 :  20.0 :   347.6861167 : 400.0\n",
      "          2 :  20.0 : 76.6599597586 : 300.0\n",
      "          3 :  30.0 : 175.653923541 : 250.0\n",
      "    DemandCon : Size=3\n",
      "        Key : Lower : Body           : Upper\n",
      "          1 : 600.0 : 599.9999999996 : 600.0\n",
      "          2 : 600.0 : 599.9999999996 : 600.0\n",
      "          3 : 600.0 : 599.9999999996 : 600.0\n",
      "    SlackBusCon : Size=1\n",
      "        Key  : Lower : Body : Upper\n",
      "        None :   0.0 :  0.0 :   0.0\n",
      "    BusCon : Size=4\n",
      "        Key : Lower  : Body                    : Upper\n",
      "          1 :    0.0 : -2.2858159809402423e-10 :    0.0\n",
      "          2 :    0.0 :   2.859223968698643e-11 :    0.0\n",
      "          3 :    0.0 :   -6.66631194690126e-10 :    0.0\n",
      "          4 : -400.0 :      -400.0000000004666 : -400.0\n",
      "    FlowCon : Size=12\n",
      "        Key    : Lower  : Body                : Upper\n",
      "        (1, 2) : -300.0 :   223.3400402414286 : 300.0\n",
      "        (1, 3) : -300.0 :                 0.0 : 300.0\n",
      "        (1, 4) : -300.0 :      124.3460764588 : 300.0\n",
      "        (2, 1) : -300.0 :  -223.3400402414286 : 300.0\n",
      "        (2, 3) : -300.0 :               300.0 : 300.0\n",
      "        (2, 4) : -300.0 :                 0.0 : 300.0\n",
      "        (3, 1) : -300.0 :                 0.0 : 300.0\n",
      "        (3, 2) : -300.0 :              -300.0 : 300.0\n",
      "        (3, 4) : -300.0 :  275.65392354166664 : 300.0\n",
      "        (4, 1) : -300.0 :     -124.3460764588 : 300.0\n",
      "        (4, 2) : -300.0 :                 0.0 : 300.0\n",
      "        (4, 3) : -300.0 : -275.65392354166664 : 300.0\n"
     ]
    }
   ],
   "source": [
    "instance.display()"
   ]
  },
  {
   "cell_type": "code",
   "execution_count": 9,
   "metadata": {
    "collapsed": false
   },
   "outputs": [
    {
     "name": "stdout",
     "output_type": "stream",
     "text": [
      "2 Set Declarations\n",
      "    FlowCon_index : Dim=0, Dimen=2, Size=16, Domain=None, Ordered=True, Bounds=None\n",
      "        Virtual\n",
      "    X_index : Dim=0, Dimen=2, Size=16, Domain=None, Ordered=True, Bounds=None\n",
      "        Virtual\n",
      "\n",
      "2 RangeSet Declarations\n",
      "    Bus : Buses\n",
      "        Dim=0, Dimen=1, Size=4, Domain=Integers, Ordered=True, Bounds=(1, 4)\n",
      "        Virtual\n",
      "    G : Generators\n",
      "        Dim=0, Dimen=1, Size=3, Domain=Integers, Ordered=True, Bounds=(1, 3)\n",
      "        Virtual\n",
      "\n",
      "10 Param Declarations\n",
      "    BaseP : Base Power\n",
      "        Size=1, Index=None, Domain=Any, Default=None, Mutable=False\n",
      "        Key  : Value\n",
      "        None : 100.0\n",
      "    D : Load\n",
      "        Size=1, Index=None, Domain=Any, Default=None, Mutable=False\n",
      "        Key  : Value\n",
      "        None : 600.0\n",
      "    Loads : Loads for each Bus\n",
      "        Size=4, Index=Bus, Domain=Any, Default=None, Mutable=False\n",
      "        Key : Value\n",
      "          1 :   0.0\n",
      "          2 :   0.0\n",
      "          3 : 200.0\n",
      "          4 : 400.0\n",
      "    PFmax : Max Power Flow\n",
      "        Size=1, Index=None, Domain=Any, Default=None, Mutable=False\n",
      "        Key  : Value\n",
      "        None : 300.0\n",
      "    PFmin : Min Power Flow\n",
      "        Size=1, Index=None, Domain=Any, Default=None, Mutable=False\n",
      "        Key  : Value\n",
      "        None : -300.0\n",
      "    Pmax : Parameter Pmax\n",
      "        Size=3, Index=G, Domain=Any, Default=None, Mutable=False\n",
      "        Key : Value\n",
      "          1 : 400.0\n",
      "          2 : 300.0\n",
      "          3 : 250.0\n",
      "    Pmin : Parameter Pmin\n",
      "        Size=3, Index=G, Domain=Any, Default=None, Mutable=False\n",
      "        Key : Value\n",
      "          1 :  20.0\n",
      "          2 :  20.0\n",
      "          3 :  30.0\n",
      "    X : Reactance between buses\n",
      "        Size=16, Index=X_index, Domain=Any, Default=inf, Mutable=False\n",
      "        Key    : Value\n",
      "        (1, 2) : 0.007\n",
      "        (1, 4) :  0.05\n",
      "        (2, 1) : 0.007\n",
      "        (2, 3) :  0.01\n",
      "        (3, 2) :  0.01\n",
      "        (3, 4) : 0.006\n",
      "        (4, 1) :  0.05\n",
      "        (4, 3) : 0.006\n",
      "    a : Parameter a\n",
      "        Size=3, Index=G, Domain=Any, Default=None, Mutable=False\n",
      "        Key : Value\n",
      "          1 :  20.0\n",
      "          2 :  25.0\n",
      "          3 :  40.0\n",
      "    b : Parameter b\n",
      "        Size=3, Index=G, Domain=Any, Default=None, Mutable=False\n",
      "        Key : Value\n",
      "          1 :  0.05\n",
      "          2 :   0.1\n",
      "          3 :   0.2\n",
      "\n",
      "2 Var Declarations\n",
      "    Angles : Angles of Buses\n",
      "        Size=4, Index=Bus\n",
      "        Key : Lower : Value            : Upper : Fixed : Stale : Domain\n",
      "          1 :  None :              0.0 :  None : False : False :  Reals\n",
      "          2 :  None : -0.0156338028169 :  None : False : False :  Reals\n",
      "          3 :  None : -0.0456338028169 :  None : False : False :  Reals\n",
      "          4 :  None : -0.0621730382294 :  None : False : False :  Reals\n",
      "    P : Generation per Generator\n",
      "        Size=3, Index=G\n",
      "        Key : Lower : Value         : Upper : Fixed : Stale : Domain\n",
      "          1 :  None :   347.6861167 :  None : False : False :  Reals\n",
      "          2 :  None : 76.6599597586 :  None : False : False :  Reals\n",
      "          3 :  None : 175.653923541 :  None : False : False :  Reals\n",
      "\n",
      "1 Objective Declarations\n",
      "    OBJ : Size=1, Index=None, Active=True\n",
      "        Key  : Active : Sense    : Expression\n",
      "        None :   True : minimize : 20.0*P[1] + 0.025*P[1]**2.0 + 25.0*P[2] + 0.05*P[2]**2.0 + 40.0*P[3] + 0.1*P[3]**2.0\n",
      "\n",
      "5 Constraint Declarations\n",
      "    BusCon : Size=4, Index=Bus, Active=True\n",
      "        Key : Lower  : Body                                                                                             : Upper  : Active\n",
      "          1 :    0.0 :           P[1] - 14285.714285714286*( Angles[1] - Angles[2] ) - 2000.0*( Angles[1] - Angles[4] ) :    0.0 :   True\n",
      "          2 :    0.0 :          P[2] - 10000.0*( Angles[2] - Angles[3] ) - 14285.714285714286*( Angles[2] - Angles[1] ) :    0.0 :   True\n",
      "          3 :    0.0 : -200.0 + P[3] - 16666.666666666668*( Angles[3] - Angles[4] ) - 10000.0*( Angles[3] - Angles[2] ) :    0.0 :   True\n",
      "          4 : -400.0 :                  16666.666666666668*( Angles[4] - Angles[3] ) + 2000.0*( Angles[4] - Angles[1] ) : -400.0 :   True\n",
      "    DemandCon : Size=3, Index=G, Active=True\n",
      "        Key : Lower : Body               : Upper : Active\n",
      "          1 :     D : P[1] + P[2] + P[3] :     D :   True\n",
      "          2 :     D : P[1] + P[2] + P[3] :     D :   True\n",
      "          3 :     D : P[1] + P[2] + P[3] :     D :   True\n",
      "    FlowCon : Size=12, Index=FlowCon_index, Active=True\n",
      "        Key    : Lower : Body                                           : Upper : Active\n",
      "        (1, 2) : PFmin : 14285.714285714286 * ( Angles[1] - Angles[2] ) : PFmax :   True\n",
      "        (1, 3) : PFmin :                                            0.0 : PFmax :   True\n",
      "        (1, 4) : PFmin :             2000.0 * ( Angles[1] - Angles[4] ) : PFmax :   True\n",
      "        (2, 1) : PFmin : 14285.714285714286 * ( Angles[2] - Angles[1] ) : PFmax :   True\n",
      "        (2, 3) : PFmin :            10000.0 * ( Angles[2] - Angles[3] ) : PFmax :   True\n",
      "        (2, 4) : PFmin :                                            0.0 : PFmax :   True\n",
      "        (3, 1) : PFmin :                                            0.0 : PFmax :   True\n",
      "        (3, 2) : PFmin :            10000.0 * ( Angles[3] - Angles[2] ) : PFmax :   True\n",
      "        (3, 4) : PFmin : 16666.666666666668 * ( Angles[3] - Angles[4] ) : PFmax :   True\n",
      "        (4, 1) : PFmin :             2000.0 * ( Angles[4] - Angles[1] ) : PFmax :   True\n",
      "        (4, 2) : PFmin :                                            0.0 : PFmax :   True\n",
      "        (4, 3) : PFmin : 16666.666666666668 * ( Angles[4] - Angles[3] ) : PFmax :   True\n",
      "    GenCon : Size=3, Index=G, Active=True\n",
      "        Key : Lower : Body : Upper : Active\n",
      "          1 :  20.0 : P[1] : 400.0 :   True\n",
      "          2 :  20.0 : P[2] : 300.0 :   True\n",
      "          3 :  30.0 : P[3] : 250.0 :   True\n",
      "    SlackBusCon : Size=1, Index=None, Active=True\n",
      "        Key  : Lower : Body      : Upper : Active\n",
      "        None :   0.0 : Angles[1] :   0.0 :   True\n",
      "\n",
      "1 Suffix Declarations\n",
      "    dual : Direction=Suffix.IMPORT, Datatype=Suffix.FLOAT\n",
      "        Key          : Value\n",
      "           BusCon[1] :      37.384305835\n",
      "           BusCon[2] :     32.6659959759\n",
      "           BusCon[3] :     75.1307847083\n",
      "           BusCon[4] :    -71.0865191147\n",
      "        DemandCon[1] :              -0.0\n",
      "        DemandCon[2] :              -0.0\n",
      "        DemandCon[3] :              -0.0\n",
      "        FlowCon[1,2] :              -0.0\n",
      "        FlowCon[1,3] :              -0.0\n",
      "        FlowCon[1,4] :              -0.0\n",
      "        FlowCon[2,1] :              -0.0\n",
      "        FlowCon[2,3] :    -49.2052313883\n",
      "        FlowCon[2,4] :              -0.0\n",
      "        FlowCon[3,1] :              -0.0\n",
      "        FlowCon[3,2] :              -0.0\n",
      "        FlowCon[3,4] :              -0.0\n",
      "        FlowCon[4,1] :              -0.0\n",
      "        FlowCon[4,2] :              -0.0\n",
      "        FlowCon[4,3] : 1.98048889234e-13\n",
      "           GenCon[1] :              -0.0\n",
      "           GenCon[2] :              -0.0\n",
      "           GenCon[3] :              -0.0\n",
      "         SlackBusCon :              -0.0\n",
      "\n",
      "23 Declarations: Bus G a b Pmin Pmax Loads D BaseP PFmax PFmin X_index X P Angles GenCon DemandCon SlackBusCon BusCon FlowCon_index FlowCon OBJ dual\n"
     ]
    }
   ],
   "source": [
    "instance.pprint()"
   ]
  },
  {
   "cell_type": "code",
   "execution_count": 16,
   "metadata": {
    "collapsed": false
   },
   "outputs": [
    {
     "name": "stdout",
     "output_type": "stream",
     "text": [
      "Total cost:  22,297.79\n"
     ]
    }
   ],
   "source": [
    "print (\"Total cost: \", \"{:,}\".format(round(value(instance.OBJ),2)))"
   ]
  },
  {
   "cell_type": "code",
   "execution_count": 12,
   "metadata": {
    "collapsed": false
   },
   "outputs": [
    {
     "name": "stdout",
     "output_type": "stream",
     "text": [
      "Duals\n",
      "   Constraint GenCon\n",
      "       1 -0.0\n",
      "       2 -0.0\n",
      "       3 -0.0\n",
      "   Constraint DemandCon\n",
      "       1 -0.0\n",
      "       2 -0.0\n",
      "       3 -0.0\n",
      "   Constraint SlackBusCon\n",
      "       None -0.0\n",
      "   Constraint BusCon\n",
      "       1 37.384305835\n",
      "       2 32.6659959759\n",
      "       3 75.1307847083\n",
      "       4 -71.0865191147\n",
      "   Constraint FlowCon\n",
      "       (1, 2) -0.0\n",
      "       (1, 3) -0.0\n",
      "       (1, 4) -0.0\n",
      "       (2, 1) -0.0\n",
      "       (2, 3) -49.2052313883\n",
      "       (2, 4) -0.0\n",
      "       (3, 1) -0.0\n",
      "       (3, 2) -0.0\n",
      "       (3, 4) -0.0\n",
      "       (4, 1) -0.0\n",
      "       (4, 2) -0.0\n",
      "       (4, 3) 1.98048889234e-13\n"
     ]
    }
   ],
   "source": [
    "print (\"Duals\")\n",
    "from pyomo.core import Constraint\n",
    "for c in instance.component_objects(Constraint, active=True):\n",
    "    print (\"   Constraint\",c)\n",
    "    cobject = getattr(instance, str(c))\n",
    "    for index in cobject:\n",
    "        print (\"      \", index, instance.dual[cobject[index]])"
   ]
  }
 ],
 "metadata": {
  "kernelspec": {
   "display_name": "Python 3",
   "language": "python",
   "name": "python3"
  },
  "language_info": {
   "codemirror_mode": {
    "name": "ipython",
    "version": 3
   },
   "file_extension": ".py",
   "mimetype": "text/x-python",
   "name": "python",
   "nbconvert_exporter": "python",
   "pygments_lexer": "ipython3",
   "version": "3.5.2"
  }
 },
 "nbformat": 4,
 "nbformat_minor": 2
}
