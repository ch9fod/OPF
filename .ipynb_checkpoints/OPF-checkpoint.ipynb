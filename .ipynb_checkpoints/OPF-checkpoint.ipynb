{
 "cells": [
  {
   "cell_type": "code",
   "execution_count": 6,
   "metadata": {
    "collapsed": true
   },
   "outputs": [],
   "source": [
    "import numpy as np\n",
    "from numpy.linalg import inv\n",
    "a12 = 142.857\n",
    "a23 = 100.\n",
    "a34 = 166.667\n",
    "a41 = 20."
   ]
  },
  {
   "cell_type": "code",
   "execution_count": 2,
   "metadata": {
    "collapsed": false
   },
   "outputs": [],
   "source": [
    "B = np.array([[-242.857, 100., 0], [100., -266.667, 166.667], [0, 166.667, -186.667]])\n",
    "Pinj = np.array([[1.7],[-1.7],[-4.]])"
   ]
  },
  {
   "cell_type": "code",
   "execution_count": 3,
   "metadata": {
    "collapsed": false
   },
   "outputs": [
    {
     "name": "stdout",
     "output_type": "stream",
     "text": [
      "[[-0.00632877 -0.00536987 -0.00479453]\n",
      " [-0.00536987 -0.0130411  -0.01164384]\n",
      " [-0.00479453 -0.01164384 -0.01575342]]\n",
      "[[ 1.7]\n",
      " [-1.7]\n",
      " [-4. ]]\n"
     ]
    }
   ],
   "source": [
    "Binv = inv(B)\n",
    "print(Binv)\n",
    "print(Pinj)"
   ]
  },
  {
   "cell_type": "code",
   "execution_count": 4,
   "metadata": {
    "collapsed": false
   },
   "outputs": [],
   "source": [
    "T=np.dot(-Binv,Pinj)"
   ]
  },
  {
   "cell_type": "code",
   "execution_count": 5,
   "metadata": {
    "collapsed": false
   },
   "outputs": [
    {
     "name": "stdout",
     "output_type": "stream",
     "text": [
      "[[-0.01754796]\n",
      " [-0.05961646]\n",
      " [-0.07465753]]\n"
     ]
    }
   ],
   "source": [
    "print(T)"
   ]
  },
  {
   "cell_type": "code",
   "execution_count": 13,
   "metadata": {
    "collapsed": false
   },
   "outputs": [],
   "source": [
    "T = np.insert(T,0,0)\n"
   ]
  },
  {
   "cell_type": "code",
   "execution_count": 14,
   "metadata": {
    "collapsed": false
   },
   "outputs": [
    {
     "data": {
      "text/plain": [
       "array([ 0.        , -0.01754796, -0.05961646, -0.07465753])"
      ]
     },
     "execution_count": 14,
     "metadata": {},
     "output_type": "execute_result"
    }
   ],
   "source": [
    "T"
   ]
  },
  {
   "cell_type": "code",
   "execution_count": 22,
   "metadata": {
    "collapsed": false
   },
   "outputs": [
    {
     "name": "stdout",
     "output_type": "stream",
     "text": [
      "p12 --> 2.50684948677\n",
      "p23 --> 4.20684948677\n",
      "p34 --> 2.50684948677\n",
      "p41 --> -1.49315051323\n"
     ]
    }
   ],
   "source": [
    "p12=a12*(T[0]-T[1])\n",
    "p23=a23*(T[1]-T[2])\n",
    "p34=a34*(T[2]-T[3])\n",
    "p41=a41*(T[3]-T[0])\n",
    "print(\"p12 -->\",p12)\n",
    "print(\"p23 -->\",p23)\n",
    "print(\"p34 -->\",p34)\n",
    "print(\"p41 -->\",p41)"
   ]
  }
 ],
 "metadata": {
  "kernelspec": {
   "display_name": "Python 3",
   "language": "python",
   "name": "python3"
  },
  "language_info": {
   "codemirror_mode": {
    "name": "ipython",
    "version": 3
   },
   "file_extension": ".py",
   "mimetype": "text/x-python",
   "name": "python",
   "nbconvert_exporter": "python",
   "pygments_lexer": "ipython3",
   "version": "3.5.2"
  }
 },
 "nbformat": 4,
 "nbformat_minor": 2
}
