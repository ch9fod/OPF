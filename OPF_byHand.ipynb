{
 "cells": [
  {
   "cell_type": "code",
   "execution_count": 1,
   "metadata": {
    "collapsed": false
   },
   "outputs": [
    {
     "name": "stdout",
     "output_type": "stream",
     "text": [
      "[ 0.         -0.01754796 -0.05961646 -0.07465753]\n",
      "p12 --> 2506.84948677\n",
      "p23 --> 4206.84948677\n",
      "p34 --> 2506.84948677\n",
      "p41 --> -1493.15051323\n"
     ]
    }
   ],
   "source": [
    "import numpy as np\n",
    "from numpy.linalg import inv\n",
    "a12 = 142.857\n",
    "a23 = 100.\n",
    "a34 = 166.667\n",
    "a41 = 20.\n",
    "B = np.array([[-242.857, 100., 0], [100., -266.667, 166.667], [0, 166.667, -186.667]])\n",
    "Pinj = np.array([[1.7],[-1.7],[-4.]])\n",
    "Binv = inv(B)\n",
    "T=np.dot(-Binv,Pinj)\n",
    "T = np.insert(T,0,0)\n",
    "print(T)\n",
    "print(\"p12 -->\",a12*(T[0]-T[1])*1000)\n",
    "print(\"p23 -->\",a23*(T[1]-T[2])*1000)\n",
    "print(\"p34 -->\",a34*(T[2]-T[3])*1000)\n",
    "print(\"p41 -->\",a41*(T[3]-T[0])*1000)"
   ]
  }
 ],
 "metadata": {
  "kernelspec": {
   "display_name": "Python 3",
   "language": "python",
   "name": "python3"
  },
  "language_info": {
   "codemirror_mode": {
    "name": "ipython",
    "version": 3
   },
   "file_extension": ".py",
   "mimetype": "text/x-python",
   "name": "python",
   "nbconvert_exporter": "python",
   "pygments_lexer": "ipython3",
   "version": "3.5.2"
  }
 },
 "nbformat": 4,
 "nbformat_minor": 2
}
