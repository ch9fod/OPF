{
 "cells": [
  {
   "cell_type": "code",
   "execution_count": 1,
   "metadata": {
    "collapsed": false
   },
   "outputs": [],
   "source": [
    "from pyomo.environ import *\n",
    "import os\n",
    "model = ConcreteModel()\n",
    "solverexe = \"gurobi\"\n",
    "# dirsolver = r\"C:\\Users\\ch9fod\\Documents\\GitHub\\ED\\solvers\"\n",
    "# datafile = \"data1.dat\""
   ]
  },
  {
   "cell_type": "code",
   "execution_count": 2,
   "metadata": {
    "collapsed": false
   },
   "outputs": [],
   "source": [
    "#set\n",
    "model.Bus = RangeSet(4, doc='Buses')\n",
    "model.G = RangeSet(3, doc='Generators')"
   ]
  },
  {
   "cell_type": "code",
   "execution_count": 3,
   "metadata": {
    "collapsed": true
   },
   "outputs": [],
   "source": [
    "#parameters\n",
    "model.a = Param(model.G, initialize={1:20 , 2:25 , 3:40}, doc='Parameter a')\n",
    "model.b = Param(model.G, initialize={1:0.05 , 2:0.10 , 3:0.20}, doc='Parameter b')\n",
    "model.Pmin = Param(model.G, initialize={1:20 , 2:20 , 3:30}, doc='Parameter Pmin')\n",
    "model.Pmax = Param(model.G, initialize={1:400 , 2:300 , 3:250}, doc='Parameter Pmax')\n",
    "# model.d = Param(model.G, initialize={1:300 , 2:300 , 3:100}, doc='Parameter d')\n",
    "# model.e = Param(model.G, initialize={1:200 , 2:200 , 3:100}, doc='Parameter e')\n",
    "# model.f = Param(model.G, initialize={1:0.01 , 2:0.01 , 3:0.005}, doc='Parameter f')\n",
    "#lone parameter, constant\n",
    "model.D = Param(initialize=600, doc='Load')\n",
    "model.PFmax = Param(initialize=300, doc='Max Power Flow')\n",
    "model.PFmin = Param(initialize=-300, doc='Min Power Flow')"
   ]
  },
  {
   "cell_type": "code",
   "execution_count": 4,
   "metadata": {
    "collapsed": true
   },
   "outputs": [],
   "source": [
    "#variables\n",
    "model.P = Var(model.G, doc='Generation per Generator')\n",
    "model.Angles = Var(model.Bus, doc='Angles of Buses')\n",
    "model.Angles[1] = 0;"
   ]
  },
  {
   "cell_type": "code",
   "execution_count": null,
   "metadata": {
    "collapsed": false
   },
   "outputs": [],
   "source": [
    "#constraints\n",
    "def maxp(model,i):\n",
    "    return model.P[i] <= model.Pmax[i]\n",
    "model.maxprod = Constraint(model.G, rule = maxp)\n",
    "\n",
    "def minp(model,i):\n",
    "    return model.P[i] >= model.Pmin[i]\n",
    "model.minprod = Constraint(model.G, rule = minp)\n",
    "\n",
    "def demand_r(model):\n",
    "    return model.D == sum(model.P[i] for i in model.G)\n",
    "model.demand = Constraint(model.G, rule = demand_r)"
   ]
  },
  {
   "cell_type": "code",
   "execution_count": null,
   "metadata": {
    "collapsed": true
   },
   "outputs": [],
   "source": [
    "#objective\n",
    "def cost_rule(model):\n",
    "    return sum(model.a[i]*model.P[i] + \n",
    "               0.5*model.b[i]*model.P[i]**2 \n",
    "               for i in model.G)\n",
    "#default is to minimize        \n",
    "model.OBJ = Objective(rule=cost_rule) "
   ]
  },
  {
   "cell_type": "code",
   "execution_count": null,
   "metadata": {
    "collapsed": false
   },
   "outputs": [],
   "source": [
    "if solverexe == \"gurobi\":\n",
    "    solver = SolverFactory(solverexe)   \n",
    "else:\n",
    "    solver = SolverFactory(solverexe, \n",
    "                           executable=os.path.join(dirsolver, solverexe))\n",
    "instance = model.create_instance()\n",
    "instance.dual = Suffix(direction=Suffix.IMPORT)\n",
    "results = solver.solve(instance)"
   ]
  },
  {
   "cell_type": "code",
   "execution_count": null,
   "metadata": {
    "collapsed": false
   },
   "outputs": [],
   "source": [
    "instance.display()\n",
    "instance.pprint()"
   ]
  },
  {
   "cell_type": "code",
   "execution_count": null,
   "metadata": {
    "collapsed": false
   },
   "outputs": [],
   "source": [
    "value(instance.OBJ)"
   ]
  },
  {
   "cell_type": "code",
   "execution_count": null,
   "metadata": {
    "collapsed": false
   },
   "outputs": [],
   "source": [
    "p = [0, 0, 0 ,0]\n",
    "for i in range(3):\n",
    "    p[i+1] = value(instance.P[i+1])"
   ]
  },
  {
   "cell_type": "code",
   "execution_count": null,
   "metadata": {
    "collapsed": false
   },
   "outputs": [],
   "source": [
    "import locale\n",
    "locale.setlocale(locale.LC_ALL, '')\n",
    "print (\"Total Emissions (tonCO2/MWh)\")\n",
    "x = y = 0\n",
    "for i in range(3):\n",
    "    y = (instance.d[i+1] + instance.e[i+1]*p[i+1] + \n",
    "        instance.f[i+1]*p[i+1]**2)\n",
    "    x = x + y\n",
    "    print(i+1, locale.format(\"%d\", y, grouping=True))\n",
    "print(\"Total\",locale.format(\"%d\", x, grouping=True)) \n"
   ]
  },
  {
   "cell_type": "code",
   "execution_count": null,
   "metadata": {
    "collapsed": false
   },
   "outputs": [],
   "source": [
    "print (\"Duals\")\n",
    "from pyomo.core import Constraint\n",
    "for c in instance.component_objects(Constraint, active=True):\n",
    "    print (\"   Constraint\",c)\n",
    "    cobject = getattr(instance, str(c))\n",
    "    for index in cobject:\n",
    "        print (\"      \", index, instance.dual[cobject[index]])"
   ]
  }
 ],
 "metadata": {
  "kernelspec": {
   "display_name": "Python 3",
   "language": "python",
   "name": "python3"
  },
  "language_info": {
   "codemirror_mode": {
    "name": "ipython",
    "version": 3
   },
   "file_extension": ".py",
   "mimetype": "text/x-python",
   "name": "python",
   "nbconvert_exporter": "python",
   "pygments_lexer": "ipython3",
   "version": "3.5.2"
  }
 },
 "nbformat": 4,
 "nbformat_minor": 2
}
